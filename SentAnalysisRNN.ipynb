{
 "cells": [
  {
   "cell_type": "code",
   "execution_count": 1,
   "metadata": {},
   "outputs": [
    {
     "name": "stdout",
     "output_type": "stream",
     "text": [
      "cpu\n"
     ]
    }
   ],
   "source": [
    "import pandas as pd\n",
    "from sklearn.model_selection import train_test_split\n",
    "import torch\n",
    "from random import shuffle\n",
    "\n",
    "df = pd.read_csv('train.tsv', sep='\\t')\n",
    "\n",
    "train_size = 0.8\n",
    "data_size = 10000\n",
    "\n",
    "df = df[:data_size]\n",
    "train = df[:int(data_size*0.8)].sample(frac=1)\n",
    "dev = df[int(data_size*0.8):].sample(frac=1).reset_index()\n",
    "\n",
    "device = torch.device('cuda' if torch.cuda.is_available() else 'cpu')\n",
    "\n",
    "print(device)"
   ]
  },
  {
   "cell_type": "code",
   "execution_count": 2,
   "metadata": {},
   "outputs": [],
   "source": [
    "#TODO : prétraitements\n",
    "#StopList, integer"
   ]
  },
  {
   "cell_type": "code",
   "execution_count": 3,
   "metadata": {},
   "outputs": [],
   "source": [
    "from sklearn.feature_extraction.text import CountVectorizer\n",
    "\n",
    "vectorizer = CountVectorizer(binary=True)\n",
    "text_data = train[\"Phrase\"]\n",
    "vectorizer.fit(text_data)\n",
    "voca = vectorizer.get_feature_names()\n"
   ]
  },
  {
   "cell_type": "code",
   "execution_count": 4,
   "metadata": {},
   "outputs": [
    {
     "name": "stdout",
     "output_type": "stream",
     "text": [
      "CPU times: user 2.24 s, sys: 613 ms, total: 2.86 s\n",
      "Wall time: 2.85 s\n"
     ]
    }
   ],
   "source": [
    "%%time\n",
    "\n",
    "word2index = {i:w for w,i in enumerate(voca)}\n",
    "\n",
    "def s2v(ohvS, pad):    \n",
    "    y = torch.tensor(ohvS).unsqueeze(1)\n",
    "    onehot = torch.zeros(len(y), len(voca))\n",
    "#     Prend en compte les phrases n'ayant que des mots non présents dans le voca ('the')\n",
    "# devrait être géré après prétraitrements\n",
    "    if len(ohvS) > 0:\n",
    "        onehot.scatter_(1, y, 1)\n",
    "    paddingT = torch.zeros(1, len(voca))\n",
    "    for i in range(len(ohvS), pad):\n",
    "        onehot = torch.cat((onehot, paddingT), 0)\n",
    "    return onehot\n",
    "    \n",
    "def sentence2index(sent, voca, dic):\n",
    "    return [dic[w] for w in set(sent.split()).intersection(voca)]\n",
    "\n",
    "train_data = text_data.apply(lambda x : sentence2index(x, voca, word2index))\n",
    "longestSentence = train_data.apply(lambda x : len(x)).max()\n",
    "text_tensor_train = train_data.apply(lambda x : s2v(x, longestSentence))\n",
    "\n",
    "#ajout du cas où on ne connait pas le mot\n",
    "# voca = vectorizer.get_feature_names() + list(['<unk>'])\n",
    "#ajout d'un zéro à la fin de chaque tensor\n",
    "# unk = torch.zeros([text_tensor_train.shape[0],1], dtype=torch.float)\n",
    "# text_tensor_train = torch.cat((text_tensor_train, unk), 1).unsqueeze(1)\n",
    "\n",
    "def labelToVec(label):\n",
    "    # label_one_hot_vector = torch.tensor(pd.get_dummies(df[\"Sentiment\"]).values)\n",
    "    label_tensor = torch.tensor(label[\"Sentiment\"].values)\n",
    "    return label_tensor\n",
    "\n",
    "label_tensor_train = labelToVec(train)"
   ]
  },
  {
   "cell_type": "code",
   "execution_count": 5,
   "metadata": {},
   "outputs": [
    {
     "name": "stdout",
     "output_type": "stream",
     "text": [
      "<class 'pandas.core.series.Series'>\n"
     ]
    }
   ],
   "source": [
    "#Ne prend pas en compte <unk>\n",
    "\n",
    "dev_data = dev['Phrase'].apply(lambda x : sentence2index(x, voca, word2index))\n",
    "text_tensor_dev = dev_data.apply(lambda x : s2v(x, longestSentence))\n",
    "\n",
    "label_tensor_dev = labelToVec(dev)\n",
    "\n",
    "print(type(text_tensor_dev))"
   ]
  },
  {
   "cell_type": "code",
   "execution_count": 6,
   "metadata": {},
   "outputs": [],
   "source": [
    "#DF to tensor\n",
    "\n",
    "text_tensor_train = torch.cat(([t.unsqueeze(0) for t in text_tensor_train]), 0)\n",
    "text_tensor_dev = torch.cat(([t.unsqueeze(0) for t in text_tensor_dev]), 0)\n"
   ]
  },
  {
   "cell_type": "code",
   "execution_count": 7,
   "metadata": {},
   "outputs": [],
   "source": [
    "import torch.nn as nn\n",
    "\n",
    "class RNN(nn.Module):\n",
    "    def __init__(self, input_size, embedding_size, hidden_size, output_size):\n",
    "        super(RNN, self).__init__()\n",
    "        \n",
    "        self.hidden_size = hidden_size\n",
    "        \n",
    "        self.embedding = nn.Embedding(input_size, embedding_size)\n",
    "\n",
    "        self.rnn = nn.RNN(input_size = input_size, hidden_size = hidden_size, batch_first = True)\n",
    "        self.h2o = nn.Linear(hidden_size, output_size)       \n",
    "        \n",
    "    def forward(self, input):\n",
    "        \n",
    "        hidden = self.initHidden(input.shape[0]).to(device)        \n",
    "        output, hidden = self.rnn(input, hidden)\n",
    "        output = self.h2o(hidden[0])\n",
    "        \n",
    "        return output\n",
    "\n",
    "    def initHidden(self, batch_size):\n",
    "        return torch.zeros(1, batch_size, self.hidden_size, dtype=torch.float)"
   ]
  },
  {
   "cell_type": "code",
   "execution_count": 11,
   "metadata": {},
   "outputs": [],
   "source": [
    "import numpy as np\n",
    "\n",
    "input_dim = len(voca)\n",
    "embedding_size = 100\n",
    "hidden_dim = 128\n",
    "output_dim = 5\n",
    "\n",
    "rnn = RNN(input_dim, embedding_size, hidden_dim, output_dim)\n",
    "\n",
    "rnn = rnn.to(device)\n",
    "\n",
    "import torch.optim as optim\n",
    "\n",
    "optimizer = optim.Adadelta(rnn.parameters(), lr=0.1)\n",
    "\n",
    "def trainRNN(train_category, train_text, dev_category, dev_text, num_epoch, batch_size):\n",
    "    \n",
    "    print(len(voca))\n",
    "    print(train_text.shape)\n",
    "    #un jour je ferais un truc propre\n",
    "    size_train = train_text.size(0)\n",
    "    size_dev = dev_text.size(0)\n",
    "    \n",
    "    hidden = rnn.initHidden(batch_size) \n",
    "    \n",
    "    #TODO vecteur de poids (ici approche \"naïve\")\n",
    "    weight = torch.tensor([1, 0.23, 0.07, 0.2, 0.76])\n",
    "    criterion = nn.CrossEntropyLoss(weight=weight)\n",
    "    \n",
    "    total_pred = torch.tensor([], dtype = torch.long).to(device)\n",
    "    total_targ = torch.tensor([], dtype = torch.long).to(device)\n",
    "    \n",
    "    train_loss = np.zeros(num_epoch)\n",
    "    train_acc = np.zeros(num_epoch)\n",
    "    dev_loss = np.zeros(num_epoch)\n",
    "    dev_acc = np.zeros(num_epoch)\n",
    " \n",
    "    for epoch in range(num_epoch):\n",
    "        nb_batch_train = len(train_text) / batch_size\n",
    "        nb_batch_dev = len(dev_text) / batch_size\n",
    "\n",
    "        i = 0\n",
    "        while (i + batch_size) <= size_train:\n",
    "            tmp = i\n",
    "            i += batch_size\n",
    "            input = train_text[tmp:i].to(device)\n",
    "            target = train_category[tmp:i].to(device)\n",
    "            output = rnn(input)      \n",
    "            \n",
    "            # ?\n",
    "            optimizer.zero_grad()\n",
    "            loss = criterion(output.squeeze(0), target)\n",
    "            loss.backward()\n",
    "            \n",
    "            #TODO Tester sans\n",
    "#             torch.nn.utils.clip_grad_norm_(rnn.parameters(),0.5)\n",
    "            optimizer.step() \n",
    "            \n",
    "            predicted = torch.argmax(output.data, dim=1)\n",
    "            correct = (predicted == target).sum().item()\n",
    "            \n",
    "            train_loss[epoch]  += loss.item()\n",
    "            train_acc[epoch] += correct / batch_size\n",
    "        \n",
    "        i = 0        \n",
    "        #j'aime faire des boucles presque pareilles\n",
    "        while (i + batch_size) <= size_dev:\n",
    "            tmp = i\n",
    "            i += batch_size\n",
    "            input = dev_text[tmp:i].to(device)\n",
    "            target = dev_category[tmp:i].to(device)\n",
    "            \n",
    "            output = rnn(input)\n",
    "            loss = criterion(output.squeeze(0), target)   \n",
    "            \n",
    "            predicted = torch.argmax(output.data, dim=1)\n",
    "            correct = (predicted == target).sum().item()\n",
    "            \n",
    "            dev_loss[epoch] += loss.item()\n",
    "            dev_acc[epoch] += correct / batch_size\n",
    "            \n",
    "            #dernière epoch\n",
    "            if epoch + 1 == num_epoch:\n",
    "                total_pred = torch.cat((total_pred, predicted), 0)\n",
    "                total_targ = torch.cat((total_targ, target), 0)\n",
    "        \n",
    "        # keep best rnn (if acc_act > best_act then best_rnn = actual_rnn)\n",
    "        \n",
    "        train_loss[epoch] = train_loss[epoch] / nb_batch_train\n",
    "        train_acc[epoch] = train_acc[epoch] / nb_batch_train\n",
    "        dev_loss[epoch] = dev_loss[epoch] / nb_batch_dev\n",
    "        dev_acc[epoch] = dev_acc[epoch] / nb_batch_dev\n",
    " \n",
    "        print(epoch, \"loss :\", train_loss[epoch], \"/ acc :\", train_acc[epoch])\n",
    "        print(\"Dev loss :\", dev_loss[epoch], \"/ acc :\", dev_acc[epoch])\n",
    "        \n",
    "    print('Fini !')\n",
    "    \n",
    "    return total_pred, total_targ, train_acc, dev_acc"
   ]
  },
  {
   "cell_type": "code",
   "execution_count": 12,
   "metadata": {},
   "outputs": [
    {
     "name": "stdout",
     "output_type": "stream",
     "text": [
      "2145\n",
      "torch.Size([8000, 32, 2145])\n",
      "0 loss : 1.6094672732055186 / acc : 0.5307499999999999\n",
      "Dev loss : 1.6118031293153763 / acc : 0.5539999999999999\n",
      "1 loss : 1.6085069745779037 / acc : 0.5662499999999997\n",
      "Dev loss : 1.6119761914014816 / acc : 0.5539999999999999\n",
      "2 loss : 1.6084245294332504 / acc : 0.5662499999999997\n",
      "Dev loss : 1.6119036436080934 / acc : 0.5539999999999999\n"
     ]
    },
    {
     "ename": "KeyboardInterrupt",
     "evalue": "",
     "output_type": "error",
     "traceback": [
      "\u001b[0;31m---------------------------------------------------------------------------\u001b[0m",
      "\u001b[0;31mKeyboardInterrupt\u001b[0m                         Traceback (most recent call last)",
      "\u001b[0;32m<ipython-input-12-a163bbb7f41a>\u001b[0m in \u001b[0;36m<module>\u001b[0;34m()\u001b[0m\n\u001b[1;32m      2\u001b[0m \u001b[0mnb_epoch\u001b[0m \u001b[0;34m=\u001b[0m \u001b[0;36m10\u001b[0m\u001b[0;34m\u001b[0m\u001b[0;34m\u001b[0m\u001b[0m\n\u001b[1;32m      3\u001b[0m \u001b[0;34m\u001b[0m\u001b[0m\n\u001b[0;32m----> 4\u001b[0;31m \u001b[0mpred\u001b[0m\u001b[0;34m,\u001b[0m \u001b[0mreal\u001b[0m\u001b[0;34m,\u001b[0m \u001b[0mtrainAcc\u001b[0m\u001b[0;34m,\u001b[0m \u001b[0mdevAcc\u001b[0m \u001b[0;34m=\u001b[0m \u001b[0mtrainRNN\u001b[0m\u001b[0;34m(\u001b[0m\u001b[0mlabel_tensor_train\u001b[0m\u001b[0;34m,\u001b[0m \u001b[0mtext_tensor_train\u001b[0m\u001b[0;34m,\u001b[0m \u001b[0mlabel_tensor_dev\u001b[0m\u001b[0;34m,\u001b[0m \u001b[0mtext_tensor_dev\u001b[0m\u001b[0;34m,\u001b[0m \u001b[0mnb_epoch\u001b[0m\u001b[0;34m,\u001b[0m \u001b[0mbatch_size\u001b[0m\u001b[0;34m)\u001b[0m\u001b[0;34m\u001b[0m\u001b[0;34m\u001b[0m\u001b[0m\n\u001b[0m",
      "\u001b[0;32m<ipython-input-11-40a07155ef3b>\u001b[0m in \u001b[0;36mtrainRNN\u001b[0;34m(train_category, train_text, dev_category, dev_text, num_epoch, batch_size)\u001b[0m\n\u001b[1;32m     51\u001b[0m             \u001b[0moptimizer\u001b[0m\u001b[0;34m.\u001b[0m\u001b[0mzero_grad\u001b[0m\u001b[0;34m(\u001b[0m\u001b[0;34m)\u001b[0m\u001b[0;34m\u001b[0m\u001b[0;34m\u001b[0m\u001b[0m\n\u001b[1;32m     52\u001b[0m             \u001b[0mloss\u001b[0m \u001b[0;34m=\u001b[0m \u001b[0mcriterion\u001b[0m\u001b[0;34m(\u001b[0m\u001b[0moutput\u001b[0m\u001b[0;34m.\u001b[0m\u001b[0msqueeze\u001b[0m\u001b[0;34m(\u001b[0m\u001b[0;36m0\u001b[0m\u001b[0;34m)\u001b[0m\u001b[0;34m,\u001b[0m \u001b[0mtarget\u001b[0m\u001b[0;34m)\u001b[0m\u001b[0;34m\u001b[0m\u001b[0;34m\u001b[0m\u001b[0m\n\u001b[0;32m---> 53\u001b[0;31m             \u001b[0mloss\u001b[0m\u001b[0;34m.\u001b[0m\u001b[0mbackward\u001b[0m\u001b[0;34m(\u001b[0m\u001b[0;34m)\u001b[0m\u001b[0;34m\u001b[0m\u001b[0;34m\u001b[0m\u001b[0m\n\u001b[0m\u001b[1;32m     54\u001b[0m \u001b[0;34m\u001b[0m\u001b[0m\n\u001b[1;32m     55\u001b[0m             \u001b[0;31m#TODO Tester sans\u001b[0m\u001b[0;34m\u001b[0m\u001b[0;34m\u001b[0m\u001b[0;34m\u001b[0m\u001b[0m\n",
      "\u001b[0;32m/home/noadkoko/.local/lib/python3.6/site-packages/torch/tensor.py\u001b[0m in \u001b[0;36mbackward\u001b[0;34m(self, gradient, retain_graph, create_graph)\u001b[0m\n\u001b[1;32m    100\u001b[0m                 \u001b[0mproducts\u001b[0m\u001b[0;34m.\u001b[0m \u001b[0mDefaults\u001b[0m \u001b[0mto\u001b[0m\u001b[0;31m \u001b[0m\u001b[0;31m`\u001b[0m\u001b[0;31m`\u001b[0m\u001b[0;32mFalse\u001b[0m\u001b[0;31m`\u001b[0m\u001b[0;31m`\u001b[0m\u001b[0;34m.\u001b[0m\u001b[0;34m\u001b[0m\u001b[0;34m\u001b[0m\u001b[0m\n\u001b[1;32m    101\u001b[0m         \"\"\"\n\u001b[0;32m--> 102\u001b[0;31m         \u001b[0mtorch\u001b[0m\u001b[0;34m.\u001b[0m\u001b[0mautograd\u001b[0m\u001b[0;34m.\u001b[0m\u001b[0mbackward\u001b[0m\u001b[0;34m(\u001b[0m\u001b[0mself\u001b[0m\u001b[0;34m,\u001b[0m \u001b[0mgradient\u001b[0m\u001b[0;34m,\u001b[0m \u001b[0mretain_graph\u001b[0m\u001b[0;34m,\u001b[0m \u001b[0mcreate_graph\u001b[0m\u001b[0;34m)\u001b[0m\u001b[0;34m\u001b[0m\u001b[0;34m\u001b[0m\u001b[0m\n\u001b[0m\u001b[1;32m    103\u001b[0m \u001b[0;34m\u001b[0m\u001b[0m\n\u001b[1;32m    104\u001b[0m     \u001b[0;32mdef\u001b[0m \u001b[0mregister_hook\u001b[0m\u001b[0;34m(\u001b[0m\u001b[0mself\u001b[0m\u001b[0;34m,\u001b[0m \u001b[0mhook\u001b[0m\u001b[0;34m)\u001b[0m\u001b[0;34m:\u001b[0m\u001b[0;34m\u001b[0m\u001b[0;34m\u001b[0m\u001b[0m\n",
      "\u001b[0;32m/home/noadkoko/.local/lib/python3.6/site-packages/torch/autograd/__init__.py\u001b[0m in \u001b[0;36mbackward\u001b[0;34m(tensors, grad_tensors, retain_graph, create_graph, grad_variables)\u001b[0m\n\u001b[1;32m     88\u001b[0m     Variable._execution_engine.run_backward(\n\u001b[1;32m     89\u001b[0m         \u001b[0mtensors\u001b[0m\u001b[0;34m,\u001b[0m \u001b[0mgrad_tensors\u001b[0m\u001b[0;34m,\u001b[0m \u001b[0mretain_graph\u001b[0m\u001b[0;34m,\u001b[0m \u001b[0mcreate_graph\u001b[0m\u001b[0;34m,\u001b[0m\u001b[0;34m\u001b[0m\u001b[0;34m\u001b[0m\u001b[0m\n\u001b[0;32m---> 90\u001b[0;31m         allow_unreachable=True)  # allow_unreachable flag\n\u001b[0m\u001b[1;32m     91\u001b[0m \u001b[0;34m\u001b[0m\u001b[0m\n\u001b[1;32m     92\u001b[0m \u001b[0;34m\u001b[0m\u001b[0m\n",
      "\u001b[0;31mKeyboardInterrupt\u001b[0m: "
     ]
    }
   ],
   "source": [
    "batch_size = 50\n",
    "nb_epoch = 10\n",
    "\n",
    "pred, real, trainAcc, devAcc = trainRNN(label_tensor_train, text_tensor_train, label_tensor_dev, text_tensor_dev, nb_epoch, batch_size)"
   ]
  },
  {
   "cell_type": "code",
   "execution_count": 10,
   "metadata": {},
   "outputs": [
    {
     "name": "stdout",
     "output_type": "stream",
     "text": [
      "Sentiment\n",
      "0     295\n",
      "1    1307\n",
      "2    4530\n",
      "3    1478\n",
      "4     390\n",
      "Name: Sentiment, dtype: int64\n",
      "Sentiment\n",
      "0      86\n",
      "1     326\n",
      "2    1108\n",
      "3     382\n",
      "4      98\n",
      "Name: Sentiment, dtype: int64\n",
      "Predicted  0  1     2  3  4  __all__\n",
      "Actual                              \n",
      "0          0  0    86  0  0       86\n",
      "1          0  0   326  0  0      326\n",
      "2          0  0  1108  0  0     1108\n",
      "3          0  0   382  0  0      382\n",
      "4          0  0    98  0  0       98\n",
      "__all__    0  0  2000  0  0     2000\n"
     ]
    },
    {
     "name": "stderr",
     "output_type": "stream",
     "text": [
      "/home/noadkoko/.local/lib/python3.6/site-packages/pandas_ml/confusion_matrix/abstract.py:66: FutureWarning: \n",
      "Passing list-likes to .loc or [] with any missing label will raise\n",
      "KeyError in the future, you can use .reindex() as an alternative.\n",
      "\n",
      "See the documentation here:\n",
      "https://pandas.pydata.org/pandas-docs/stable/indexing.html#deprecate-loc-reindex-listlike\n",
      "  df = df.loc[idx, idx.copy()].fillna(0)  # if some columns or rows are missing\n"
     ]
    },
    {
     "data": {
      "image/png": "[encoded data removed]",
      "text/plain": [
       "<Figure size 432x288 with 1 Axes>"
      ]
     },
     "metadata": {},
     "output_type": "display_data"
    },
    {
     "data": {
      "text/plain": [
       "<Figure size 432x288 with 0 Axes>"
      ]
     },
     "metadata": {},
     "output_type": "display_data"
    }
   ],
   "source": [
    "%matplotlib inline\n",
    "\n",
    "from sklearn.metrics import confusion_matrix\n",
    "from pandas_ml import ConfusionMatrix\n",
    "\n",
    "print(train.groupby('Sentiment')[\"Sentiment\"].count())\n",
    "print(dev.groupby('Sentiment')[\"Sentiment\"].count())\n",
    "\n",
    "real = real.cpu().data\n",
    "pred = pred.cpu().view(len(real)).data #pred.cpu().squeeze(0)\n",
    "#warning chiante, mais np\n",
    "cm = ConfusionMatrix(real, pred)\n",
    "confusion_matrix(real, pred)\n",
    "print(cm)\n",
    "\n",
    "import matplotlib.pyplot as plt\n",
    "\n",
    "plt.plot(range(1,nb_epoch+1), devAcc, range(1,nb_epoch+1), trainAcc)\n",
    "plt.show()\n",
    "plt.savefig('acc.png')"
   ]
  },
  {
   "cell_type": "code",
   "execution_count": null,
   "metadata": {},
   "outputs": [],
   "source": []
  }
 ],
 "metadata": {
  "kernelspec": {
   "display_name": "Python 3",
   "language": "python",
   "name": "python3"
  },
  "language_info": {
   "codemirror_mode": {
    "name": "ipython",
    "version": 3
   },
   "file_extension": ".py",
   "mimetype": "text/x-python",
   "name": "python",
   "nbconvert_exporter": "python",
   "pygments_lexer": "ipython3",
   "version": "3.6.7"
  }
 },
 "nbformat": 4,
 "nbformat_minor": 2
}
