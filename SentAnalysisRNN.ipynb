{
 "cells": [
  {
   "cell_type": "code",
   "execution_count": 1,
   "metadata": {},
   "outputs": [],
   "source": [
    "import pandas as pd\n",
    "\n",
    "df = pd.read_csv('train.tsv', sep='\\t')"
   ]
  },
  {
   "cell_type": "code",
   "execution_count": 2,
   "metadata": {},
   "outputs": [],
   "source": [
    "from sklearn.feature_extraction.text import CountVectorizer\n",
    "\n",
    "df = df [:1000]\n",
    "vectorizer = CountVectorizer(binary=True)\n",
    "text_data = df[\"Phrase\"]\n",
    "text_data = vectorizer.fit_transform(text_data)\n",
    "\n",
    "import torch\n",
    "\n",
    "text_tensor = torch.from_numpy(text_data.todense()).float()\n",
    "\n",
    "#ajout du cas où on ne connait pas le mot\n",
    "voca = vectorizer.get_feature_names() + list(['<unk>'])\n",
    "#ajout d'un zéro à la fin de chaque tensor\n",
    "unk = torch.zeros([text_tensor.shape[0],1], dtype=torch.float)\n",
    "text_tensor = torch.cat((text_tensor, unk), 1).unsqueeze(1)\n",
    "\n",
    "label_one_hot_vector = torch.tensor(pd.get_dummies(df[\"Sentiment\"]).values)\n",
    "label_tensor = torch.tensor(df[\"Sentiment\"])"
   ]
  },
  {
   "cell_type": "code",
   "execution_count": 3,
   "metadata": {},
   "outputs": [],
   "source": [
    "device = torch.device('cuda' if torch.cuda.is_available() else 'cpu')"
   ]
  },
  {
   "cell_type": "code",
   "execution_count": 4,
   "metadata": {},
   "outputs": [],
   "source": [
    "import torch.nn as nn\n",
    "\n",
    "class RNN(nn.Module):\n",
    "    def __init__(self, input_size, embedding_size, hidden_size, output_size):\n",
    "        super(RNN, self).__init__()\n",
    "        \n",
    "        self.hidden_size = hidden_size\n",
    "        \n",
    "        self.embedding = nn.Embedding(input_size, embedding_size)\n",
    "\n",
    "        self.rnn = nn.RNN(input_size = input_size, hidden_size = hidden_size, batch_first = True)\n",
    "        self.h2o = nn.Linear(hidden_size, output_size)       \n",
    "        \n",
    "    def forward(self, input, hidden):\n",
    "        \n",
    "        hidden = hidden.to(device)\n",
    "        output, hidden = self.rnn(input, hidden)\n",
    "        output = self.h2o(hidden)\n",
    "        \n",
    "        return output, hidden\n",
    "\n",
    "    def initHidden(self, batch_size):\n",
    "        return torch.zeros(1, batch_size, self.hidden_size, dtype=torch.float)\n",
    "\n",
    "def isnan(num):\n",
    "    return num != num"
   ]
  },
  {
   "cell_type": "code",
   "execution_count": 5,
   "metadata": {},
   "outputs": [],
   "source": [
    "input_dim = len(voca)\n",
    "embedding_size = 100\n",
    "hidden_dim = 100\n",
    "output_dim = 5\n",
    "\n",
    "rnn = RNN(input_dim, embedding_size, hidden_dim, output_dim)\n",
    "\n",
    "import torch.optim as optim\n",
    "\n",
    "optimizer = optim.SGD(rnn.parameters(), lr=1e-3)\n",
    "\n",
    "def train(category_tensor, category_hov, text_tensor, num_epoch, batch_size):\n",
    "    \n",
    "    category_tensor = category_tensor.to(device)\n",
    "    text_tensor = text_tensor.to(device)\n",
    "    \n",
    "    hidden = rnn.initHidden(batch_size)   \n",
    "    criterion = nn.CrossEntropyLoss()    \n",
    "    rnn.zero_grad()\n",
    "    \n",
    "    for epoch in range(num_epoch):\n",
    "        epoch_loss = 0\n",
    "        epoch_acc = 0\n",
    "        i = 0\n",
    "        while i < text_tensor.size(0):\n",
    "            tmp = i\n",
    "            i += batch_size\n",
    "            input = text_tensor[tmp:i]\n",
    "            target = category_tensor[tmp:i]\n",
    "            target_hov = category_hov[tmp:i]\n",
    "            \n",
    "            output, hidden = rnn(input, hidden)\n",
    "\n",
    "            loss = criterion(output.squeeze(0), target)\n",
    "            loss.backward(retain_graph=True)\n",
    "            optimizer.step() \n",
    "            \n",
    "            epoch_loss += loss.item()\n",
    "            if(isnan(loss.item())):\n",
    "                print(loss)\n",
    "                \n",
    "        print(epoch, epoch_loss)\n",
    "        \n",
    "    print('Fini !')"
   ]
  },
  {
   "cell_type": "code",
   "execution_count": 6,
   "metadata": {},
   "outputs": [
    {
     "name": "stdout",
     "output_type": "stream",
     "text": [
      "0 31.098599553108215\n",
      "1 24.871177077293396\n",
      "2 21.36286813020706\n",
      "3 22.176346719264984\n",
      "4 21.652892231941223\n",
      "5 20.41066437959671\n",
      "6 20.957808315753937\n",
      "7 19.712225139141083\n",
      "8 20.84195601940155\n",
      "9 18.295552402734756\n",
      "Fini !\n"
     ]
    }
   ],
   "source": [
    "batch_size = 50\n",
    "\n",
    "train(label_tensor, label_one_hot_vector, text_tensor, 10, batch_size)"
   ]
  }
 ],
 "metadata": {
  "kernelspec": {
   "display_name": "Python 3",
   "language": "python",
   "name": "python3"
  },
  "language_info": {
   "codemirror_mode": {
    "name": "ipython",
    "version": 3
   },
   "file_extension": ".py",
   "mimetype": "text/x-python",
   "name": "python",
   "nbconvert_exporter": "python",
   "pygments_lexer": "ipython3",
   "version": "3.6.7"
  }
 },
 "nbformat": 4,
 "nbformat_minor": 2
}
