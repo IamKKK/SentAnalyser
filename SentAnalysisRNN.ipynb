{
 "cells": [
  {
   "cell_type": "code",
   "execution_count": 1,
   "metadata": {},
   "outputs": [],
   "source": [
    "import pandas as pd\n",
    "from sklearn.model_selection import train_test_split\n",
    "\n",
    "df = pd.read_csv('train.tsv', sep='\\t')\n",
    "\n",
    "df = df [:1021]\n",
    "\n",
    "train, test = train_test_split(df, test_size=0.20)"
   ]
  },
  {
   "cell_type": "code",
   "execution_count": 2,
   "metadata": {},
   "outputs": [],
   "source": [
    "from sklearn.feature_extraction.text import CountVectorizer\n",
    "import torch\n",
    "\n",
    "vectorizer = CountVectorizer(binary=True)\n",
    "text_data = train[\"Phrase\"]\n",
    "text_data = vectorizer.fit_transform(text_data)\n",
    "\n",
    "text_tensor_train = torch.from_numpy(text_data.todense()).float()\n",
    "\n",
    "text_tensor_train = text_tensor_train.unsqueeze(1)\n",
    "\n",
    "#ajout du cas où on ne connait pas le mot\n",
    "voca = vectorizer.get_feature_names() #+ list(['<unk>'])\n",
    "#ajout d'un zéro à la fin de chaque tensor\n",
    "# unk = torch.zeros([text_tensor_train.shape[0],1], dtype=torch.float)\n",
    "# text_tensor_train = torch.cat((text_tensor_train, unk), 1).unsqueeze(1)\n",
    "\n",
    "def labelToVec(label):\n",
    "    # label_one_hot_vector = torch.tensor(pd.get_dummies(df[\"Sentiment\"]).values)\n",
    "    label_tensor = torch.tensor(label[\"Sentiment\"].values)\n",
    "    return label_tensor\n",
    "\n",
    "label_tensor_train = labelToVec(train)"
   ]
  },
  {
   "cell_type": "code",
   "execution_count": 3,
   "metadata": {},
   "outputs": [
    {
     "name": "stdout",
     "output_type": "stream",
     "text": [
      "torch.Size([205, 1, 361]) torch.Size([816, 1, 361])\n"
     ]
    }
   ],
   "source": [
    "from nltk import word_tokenize\n",
    "# nltk.download('punkt')\n",
    "\n",
    "def vocaToUnk(sentence, voca):\n",
    "    s = []\n",
    "    for w in word_tokenize(sentence):\n",
    "        if(w not in voca):\n",
    "            w = '<unk>'\n",
    "        s.append(w)\n",
    "    return \" \".join(s)         \n",
    "                \n",
    "text_test = test.Phrase.apply(lambda x : vocaToUnk(x, voca))\n",
    "#Ne prend pas en compte <unk>\n",
    "text_test = vectorizer.transform(text_test)\n",
    "\n",
    "text_tensor_test = torch.from_numpy(text_test.todense()).float()\n",
    "label_tensor_test = labelToVec(test)\n",
    "\n",
    "text_tensor_test = text_tensor_test.unsqueeze(1)\n",
    "\n",
    "print(text_tensor_test.shape, text_tensor_train.shape)"
   ]
  },
  {
   "cell_type": "code",
   "execution_count": 4,
   "metadata": {},
   "outputs": [],
   "source": [
    "device = torch.device('cuda' if torch.cuda.is_available() else 'cpu')"
   ]
  },
  {
   "cell_type": "code",
   "execution_count": 5,
   "metadata": {},
   "outputs": [],
   "source": [
    "import torch.nn as nn\n",
    "\n",
    "class RNN(nn.Module):\n",
    "    def __init__(self, input_size, embedding_size, hidden_size, output_size):\n",
    "        super(RNN, self).__init__()\n",
    "        \n",
    "        self.hidden_size = hidden_size\n",
    "        \n",
    "        self.embedding = nn.Embedding(input_size, embedding_size)\n",
    "\n",
    "        self.rnn = nn.RNN(input_size = input_size, hidden_size = hidden_size, batch_first = True)\n",
    "        self.h2o = nn.Linear(hidden_size, output_size)       \n",
    "        \n",
    "    def forward(self, input, hidden):\n",
    "        \n",
    "        hidden = hidden.to(device)\n",
    "        output, hidden = self.rnn(input, hidden)\n",
    "        output = self.h2o(hidden)\n",
    "        \n",
    "        return output, hidden\n",
    "\n",
    "    def initHidden(self, batch_size):\n",
    "        return torch.zeros(1, batch_size, self.hidden_size, dtype=torch.float)"
   ]
  },
  {
   "cell_type": "code",
   "execution_count": 10,
   "metadata": {},
   "outputs": [],
   "source": [
    "input_dim = len(voca)\n",
    "embedding_size = 100\n",
    "hidden_dim = 100\n",
    "output_dim = 5\n",
    "\n",
    "rnn = RNN(input_dim, embedding_size, hidden_dim, output_dim)\n",
    "\n",
    "import torch.optim as optim\n",
    "\n",
    "optimizer = optim.SGD(rnn.parameters(), lr=1e-3)\n",
    "\n",
    "def train(train_category, train_text, test_category, test_text, num_epoch, batch_size):\n",
    "    \n",
    "    train_category = train_category.to(device)\n",
    "    train_text = train_text.to(device)\n",
    "    test_category = test_category.to(device)\n",
    "    test_text = test_text.to(device)\n",
    "    \n",
    "    size_train = train_text.size(0)\n",
    "    size_test = test_text.size(0)\n",
    "    \n",
    "    hidden = rnn.initHidden(batch_size)   \n",
    "    criterion = nn.CrossEntropyLoss()    \n",
    "    rnn.zero_grad()\n",
    "    \n",
    "    for epoch in range(num_epoch):\n",
    "        nb_batch_train = len(train_text) / batch_size\n",
    "        nb_batch_test = len(test_text) / batch_size\n",
    "        train_loss = 0\n",
    "        train_acc = 0\n",
    "        i = 0\n",
    "        while (i + batch_size) <= size_train:\n",
    "            tmp = i\n",
    "            i += batch_size\n",
    "            input = train_text[tmp:i]\n",
    "            target = train_category[tmp:i]\n",
    "            output, hidden = rnn(input, hidden)\n",
    "            \n",
    "            loss = criterion(output.squeeze(0), target)\n",
    "            loss.backward(retain_graph=True)\n",
    "            optimizer.step() \n",
    "            \n",
    "            predicted = torch.argmax(output.data, dim=2)\n",
    "            correct = (predicted == target).sum().item()\n",
    "            \n",
    "            train_loss += loss.item()\n",
    "            train_acc += correct / batch_size\n",
    "        \n",
    "        i = 0\n",
    "        test_loss = 0\n",
    "        test_acc = 0        \n",
    "        \n",
    "        #j'aime faire des boucles presque pareilles\n",
    "        while (i + batch_size) <= size_test:\n",
    "            tmp = i\n",
    "            i += batch_size\n",
    "            input = test_text[tmp:i]\n",
    "            target = test_category[tmp:i]\n",
    "            \n",
    "            output, _ = rnn(input, hidden)\n",
    "            loss = criterion(output.squeeze(0), target)   \n",
    "            \n",
    "            predicted = torch.argmax(output.data, dim=2)\n",
    "            correct = (predicted == target).sum().item()\n",
    "            \n",
    "            test_loss += loss.item()\n",
    "            test_acc += correct / batch_size\n",
    "                \n",
    "        print(epoch, \"loss :\", train_loss / nb_batch_train, \"/ acc :\", train_acc / nb_batch_train)\n",
    "        print(\"Test loss :\", test_loss / nb_batch_test, \"/ acc :\", test_acc / nb_batch_test)\n",
    "\n",
    "        \n",
    "    print('Fini !')"
   ]
  },
  {
   "cell_type": "code",
   "execution_count": 11,
   "metadata": {},
   "outputs": [
    {
     "name": "stdout",
     "output_type": "stream",
     "text": [
      "0 loss : 1.4904430903056087 / acc : 0.5710784313725489\n",
      "Test loss : 1.4113151736375764 / acc : 0.6390243902439026\n",
      "1 loss : 1.3114212701718013 / acc : 0.6495098039215685\n",
      "Test loss : 1.171937076056876 / acc : 0.6390243902439026\n",
      "2 loss : 1.0847953202969887 / acc : 0.6495098039215685\n",
      "Test loss : 1.039134700123857 / acc : 0.6390243902439026\n",
      "3 loss : 1.1092096019317121 / acc : 0.6495098039215685\n",
      "Test loss : 1.1865225943123423 / acc : 0.6390243902439026\n",
      "4 loss : 1.1097256678576564 / acc : 0.6495098039215685\n",
      "Test loss : 0.9892009089632733 / acc : 0.6390243902439026\n",
      "5 loss : 1.0165864674776208 / acc : 0.6519607843137255\n",
      "Test loss : 1.0761971880749959 / acc : 0.6292682926829269\n",
      "6 loss : 1.0967105919239568 / acc : 0.6580882352941176\n",
      "Test loss : 1.0402085432192176 / acc : 0.6341463414634146\n",
      "7 loss : 0.978087126186081 / acc : 0.6507352941176469\n",
      "Test loss : 0.9752777291507256 / acc : 0.6390243902439026\n",
      "8 loss : 0.9850570165059146 / acc : 0.6495098039215685\n",
      "Test loss : 1.0633199534765105 / acc : 0.6390243902439026\n",
      "9 loss : 1.0264031698598581 / acc : 0.6495098039215685\n",
      "Test loss : 3.208857513055569 / acc : 0.6390243902439026\n",
      "Fini !\n"
     ]
    }
   ],
   "source": [
    "batch_size = 50\n",
    "nb_epoch = 10\n",
    "\n",
    "train(label_tensor_train, text_tensor_train, label_tensor_test, text_tensor_test, nb_epoch, batch_size)"
   ]
  },
  {
   "cell_type": "code",
   "execution_count": null,
   "metadata": {},
   "outputs": [],
   "source": []
  }
 ],
 "metadata": {
  "kernelspec": {
   "display_name": "Python 3",
   "language": "python",
   "name": "python3"
  },
  "language_info": {
   "codemirror_mode": {
    "name": "ipython",
    "version": 3
   },
   "file_extension": ".py",
   "mimetype": "text/x-python",
   "name": "python",
   "nbconvert_exporter": "python",
   "pygments_lexer": "ipython3",
   "version": "3.6.7"
  }
 },
 "nbformat": 4,
 "nbformat_minor": 2
}
